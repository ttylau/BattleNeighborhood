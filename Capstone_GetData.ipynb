{
    "nbformat_minor": 1, 
    "cells": [
        {
            "execution_count": 9, 
            "cell_type": "code", 
            "metadata": {}, 
            "outputs": [], 
            "source": "# The code was removed by Watson Studio for sharing."
        }, 
        {
            "execution_count": 10, 
            "cell_type": "code", 
            "metadata": {}, 
            "outputs": [], 
            "source": "import json # library to handle JSON files\nimport requests # library to handle requests\nfrom pandas.io.json import json_normalize # tranform JSON file into a pandas dataframe"
        }, 
        {
            "execution_count": 8, 
            "cell_type": "code", 
            "metadata": {}, 
            "outputs": [], 
            "source": "CLIENT_ID = 'xxx' # your Foursquare ID\nCLIENT_SECRET = 'xxx'\nVERSION = '20180605' # Foursquare API version\nLIMIT=100\nradius=500"
        }, 
        {
            "source": "# Prep Work- Saving Data to File", 
            "cell_type": "markdown", 
            "metadata": {
                "collapsed": true
            }
        }, 
        {
            "source": "The reason  I save the data we need to file is because my Four Square account has a quota on the number of calls I can make per day, so I will get all the data first ( to be used later from file), instead of calling Four Sqaure all the time during my anaysis", 
            "cell_type": "markdown", 
            "metadata": {}
        }, 
        {
            "source": "##  (1) Saving Manhattan/Brooklyn Location Data to file\n###  Raw_NYC_BLY_Location.csv", 
            "cell_type": "markdown", 
            "metadata": {}
        }, 
        {
            "execution_count": 3, 
            "cell_type": "code", 
            "metadata": {}, 
            "outputs": [
                {
                    "output_type": "stream", 
                    "name": "stdout", 
                    "text": "Data downloaded!\n"
                }
            ], 
            "source": "!wget -q -O 'newyork_data.json' https://cocl.us/new_york_dataset\nprint('Data downloaded!')"
        }, 
        {
            "execution_count": 4, 
            "cell_type": "code", 
            "metadata": {}, 
            "outputs": [], 
            "source": "import json # library to handle JSON files\nimport requests # library to handle requests\nfrom pandas.io.json import json_normalize # tranform JSON file into a pandas dataframe\nimport pandas as pd"
        }, 
        {
            "execution_count": 5, 
            "cell_type": "code", 
            "metadata": {}, 
            "outputs": [], 
            "source": "with open('newyork_data.json') as json_data:\n    newyork_data = json.load(json_data)"
        }, 
        {
            "execution_count": 34, 
            "cell_type": "code", 
            "metadata": {}, 
            "outputs": [
                {
                    "output_type": "stream", 
                    "name": "stdout", 
                    "text": "The dataframe has 2 boroughs and 61 neighborhoods.\n"
                }
            ], 
            "source": "neighborhoods_data = newyork_data['features']\n# define the dataframe columns\ncolumn_names = ['Borough', 'Neighborhood', 'Latitude', 'Longitude'] \n\n# Include only these neighborhoods in Brooklyn that we know has Vegetarian Restaurants\nveg_neighborhood =[\n'Greenpoint',\n'Manhattan Terrace',\n'Windsor Terrace',\n'Prospect Heights',\n'Williamsburg',\n'Bushwick',\n'Brooklyn Heights',\n'Carroll Gardens',\n'Fort Greene',\n'Coney Island',\n'Clinton Hill',\n'Downtown',\n'Boerum Hill',\n'Prospect Lefferts Gardens',\n'East Williamsburg',\n'North Side',\n'South Side',\n'Fort Hamilton',\n'Fulton Ferry',\n'Vinegar Hill',\n'Dumbo']\n\n\n\n# Take only  Manhattan & Brooklyn Data\nneighborhoods = pd.DataFrame(columns=column_names)\nfor data in neighborhoods_data:\n    borough = neighborhood_name = data['properties']['borough'] \n    neighborhood_name = data['properties']['name'] \n    if ((borough==\"Manhattan\") | \n        ((borough==\"Brooklyn\") & (neighborhood_name in veg_neighborhood))):   \n      \n       neighborhood_latlon = data['geometry']['coordinates']\n       neighborhood_lat = neighborhood_latlon[1]\n       neighborhood_lon = neighborhood_latlon[0]  \n       neighborhoods = neighborhoods.append({'Borough': borough,\n                                          'Neighborhood': neighborhood_name,\n                                          'Latitude': neighborhood_lat,\n                                          'Longitude': neighborhood_lon}, ignore_index=True)\n    \ndf_nyc = neighborhoods\n\nprint('The dataframe has {} boroughs and {} neighborhoods.'.format(\n        len(df_nyc['Borough'].unique()),\n        df_nyc.shape[0]\n    )\n)\n\n"
        }, 
        {
            "execution_count": 35, 
            "cell_type": "code", 
            "metadata": {}, 
            "outputs": [
                {
                    "execution_count": 35, 
                    "metadata": {}, 
                    "data": {
                        "text/plain": "{'file_name': 'Raw_NYC_BLY_Location.csv',\n 'message': 'File saved to project storage.',\n 'bucket_name': 'battleneighborhood-donotdelete-pr-daicfvssjqzcx5',\n 'asset_id': 'd8520c97-1710-4b90-ac9a-00c52d60f2fe'}"
                    }, 
                    "output_type": "execute_result"
                }
            ], 
            "source": "project.save_data(data= df_nyc.to_csv(index=False),file_name='Raw_NYC_BLY_Location.csv',overwrite=True)"
        }, 
        {
            "source": "## (2)  Saving all Food Venues by Neighborhood  \n### Raw_NYC_BLY_Food_Venues.csv\nThis data is used for clustering", 
            "cell_type": "raw", 
            "metadata": {}
        }, 
        {
            "execution_count": 12, 
            "cell_type": "code", 
            "metadata": {}, 
            "outputs": [], 
            "source": "def getTestData(df_nyc, neigh):\n    row =  df_nyc[df_nyc[\"Neighborhood\"] == neigh]\n    lat =row.iloc[0]['Latitude']\n    lng =row.iloc[0]['Longitude']\n    return  neigh, lat, lng"
        }, 
        {
            "execution_count": 13, 
            "cell_type": "code", 
            "metadata": {}, 
            "outputs": [], 
            "source": "def  getJsonField(thisObj, fieldname):\n    if not fieldname in thisObj :\n        return 'None'\n    else:\n        return thisObj[fieldname]"
        }, 
        {
            "execution_count": 13, 
            "cell_type": "code", 
            "metadata": {}, 
            "outputs": [
                {
                    "output_type": "stream", 
                    "name": "stdout", 
                    "text": "East Village 40.727846777270244,-73.98222616506416\n"
                }
            ], 
            "source": "neigh, lat, lng = getTestData(df_nyc, \"East Village\")\nprint (\"{0} {1},{2}\".format(neigh, lat, lng))"
        }, 
        {
            "source": "Function using Explore API for section=food to get popular food venue (max of 100) near each neighborhood", 
            "cell_type": "markdown", 
            "metadata": {}
        }, 
        {
            "execution_count": 21, 
            "cell_type": "code", 
            "metadata": {}, 
            "outputs": [], 
            "source": "def getFoodVenues(names, latitudes, longitudes,  radius=500 ):\n    \n    venues_list=[]\n    for name, lat, lng in zip(names, latitudes, longitudes):\n        url = 'https://api.foursquare.com/v2/venues/explore?&client_id={}&client_secret={}&v={}&section={}&intent=browse&ll={},{}&radius={}&limit={}'.format(\n            CLIENT_ID, \n            CLIENT_SECRET, \n            VERSION, \n            \"food\",\n            lat, \n            lng, \n            radius, \n            LIMIT)\n        \n        print (name)\n        results1 = requests.get(url).json()[\"response\"]\n        results2 = results1['groups']\n        #print (results2)\n        if ((results2 == None)  | (len(results2) == 0)):\n            continue\n        \n        results3=results2[0]\n        if (results3['items']   == None):\n            continue\n        results = results3['items']\n        \n        for thisR in results:\n            v = thisR['venue']\n            cat1 = getJsonField(v, 'categories')\n\n            if (cat1 !='None'):\n                #print (\"cat \" + str((cat1[0])))\n                cat1= cat1[0]  # Take the first one from the list                \n                cat = getJsonField(cat1, 'name')\n                #print(cat)\n            else:\n               cat='None'\n            venues_list.append([(\n                 name, \n                 lat, \n                 lng, \n                 v['id'],\n                 v['name'], \n                 v['location']['lat'], \n                 v['location']['lng'],  \n                 cat)])\n        \n    \n\n        cat_venues = pd.DataFrame([item for venue_list in venues_list for item in venue_list])\n        cat_venues.columns = ['Neighborhood', \n                  'Neighborhood Latitude', \n                  'Neighborhood Longitude',\n                  'Id',\n                  'Venue', \n                  'Venue Latitude', \n                  'Venue Longitude', \n                  'Venue Category']\n    \n    return(cat_venues)"
        }, 
        {
            "execution_count": 24, 
            "cell_type": "code", 
            "metadata": {}, 
            "outputs": [
                {
                    "output_type": "stream", 
                    "name": "stdout", 
                    "text": "Park Slope\n"
                }
            ], 
            "source": "neigh, lat, lng = getTestData(df_nyc, \"Park Slope\")\nfood_venues = getFoodVenues([neigh], [lat], [lng], radius=500 )"
        }, 
        {
            "execution_count": 40, 
            "cell_type": "code", 
            "metadata": {}, 
            "outputs": [], 
            "source": "all_food_venues = getFoodVenues(df_nyc['Neighborhood'],df_nyc['Latitude'],df_nyc['Longitude'],radius=500 )"
        }, 
        {
            "execution_count": 37, 
            "cell_type": "code", 
            "metadata": {}, 
            "outputs": [
                {
                    "execution_count": 37, 
                    "metadata": {}, 
                    "data": {
                        "text/plain": "{'file_name': 'Raw_NYC_BLY_Food_Venues.csv',\n 'message': 'File saved to project storage.',\n 'bucket_name': 'battleneighborhood-donotdelete-pr-daicfvssjqzcx5',\n 'asset_id': '7ca5ee3a-4945-4b31-8fb7-5ab67b7bdcf1'}"
                    }, 
                    "output_type": "execute_result"
                }
            ], 
            "source": "project.save_data(data=all_food_venues.to_csv(index=False),file_name='Raw_NYC_BLY_Food_Venues.csv',overwrite=True)"
        }, 
        {
            "source": "# (3) Saving all Vegetarian Venues to file\n### Raw_NYC_BLY_Veg_Venues.csv\n\nFunction using Search API for category=Vegetarian to get  venue (max of 100) near each neighborhood", 
            "cell_type": "markdown", 
            "metadata": {}
        }, 
        {
            "execution_count": 49, 
            "cell_type": "code", 
            "metadata": {}, 
            "outputs": [], 
            "source": "def getVenuesOfCategory(names, latitudes, longitudes, category_query, radius=500 ):\n    \n    cat_venues=None\n    venues_list=[]\n    for name, lat, lng in zip(names, latitudes, longitudes):\n       \n            \n        # create the API request URL\n        url = 'https://api.foursquare.com/v2/venues/search?&client_id={}&client_secret={}&categoryId={}&v={}&intent={}&ll={},{}&radius={}&limit={}'.format(\n            CLIENT_ID, \n            CLIENT_SECRET, \n            category_query,\n            VERSION, \n            \"browse\",\n            lat, \n            lng, \n            radius, \n            LIMIT)\n        \n        #print (url)\n        # make the GET request\n        results = requests.get(url).json()[\"response\"]\n        #print (results)\n        if len (results[\"venues\"] )== 0:\n            continue\n        for v in results[\"venues\"]:         \n            cat = getJsonField(v, 'categories')\n            if (cat !='None'):\n               cat = getJsonField(cat[0], 'name')\n               #print(cat)\n            else:\n               cat='None'\n            venues_list.append([(\n                name, \n                lat, \n                lng, \n                v['id'],\n                v['name'], \n                v['location']['lat'], \n                v['location']['lng'],  \n                cat)])\n        \n\n        cat_venues = pd.DataFrame([item for venue_list in venues_list for item in venue_list])\n        cat_venues.columns = ['Neighborhood', \n                  'Neighborhood Latitude', \n                  'Neighborhood Longitude',\n                  'Id',\n                  'Venue', \n                  'Venue Latitude', \n                  'Venue Longitude', \n                  'Venue Category']\n    \n    return(cat_venues)"
        }, 
        {
            "execution_count": 50, 
            "cell_type": "code", 
            "metadata": {}, 
            "outputs": [], 
            "source": "category_query = '4bf58dd8d48988d1d3941735'  # Vegatarian \nall_veg_venues = getVenuesOfCategory(df_nyc['Neighborhood'],df_nyc['Latitude'],df_nyc['Longitude'],category_query, radius=500 )"
        }, 
        {
            "execution_count": 51, 
            "cell_type": "code", 
            "metadata": {}, 
            "outputs": [
                {
                    "execution_count": 51, 
                    "metadata": {}, 
                    "data": {
                        "text/plain": "{'file_name': 'Raw_NYC_BLY_Veg_Venues.csv',\n 'message': 'File saved to project storage.',\n 'bucket_name': 'battleneighborhood-donotdelete-pr-daicfvssjqzcx5',\n 'asset_id': '49daaab3-462a-4037-ab7d-ed760bba1f7b'}"
                    }, 
                    "output_type": "execute_result"
                }
            ], 
            "source": "project.save_data(data=all_veg_venues.to_csv(index=False),file_name='Raw_NYC_BLY_Veg_Venues.csv',overwrite=True)"
        }, 
        {
            "source": "## (4) Saving Details of Veg Restaruants to file\n###  Raw_Veg_Details.csv\nSince getting the details is a Premium call and my account is limited to 50 calls per day, this program is used to accumulate the details everyday till we get all the details", 
            "cell_type": "markdown", 
            "metadata": {}
        }, 
        {
            "execution_count": 1, 
            "cell_type": "code", 
            "metadata": {}, 
            "outputs": [
                {
                    "execution_count": 1, 
                    "metadata": {}, 
                    "data": {
                        "text/html": "<div>\n<style scoped>\n    .dataframe tbody tr th:only-of-type {\n        vertical-align: middle;\n    }\n\n    .dataframe tbody tr th {\n        vertical-align: top;\n    }\n\n    .dataframe thead th {\n        text-align: right;\n    }\n</style>\n<table border=\"1\" class=\"dataframe\">\n  <thead>\n    <tr style=\"text-align: right;\">\n      <th></th>\n      <th>Neighborhood</th>\n      <th>Neighborhood Latitude</th>\n      <th>Neighborhood Longitude</th>\n      <th>Id</th>\n      <th>Venue</th>\n      <th>Venue Latitude</th>\n      <th>Venue Longitude</th>\n      <th>Venue Category</th>\n    </tr>\n  </thead>\n  <tbody>\n    <tr>\n      <th>0</th>\n      <td>Marble Hill</td>\n      <td>40.876551</td>\n      <td>-73.910660</td>\n      <td>52411ca98bbd75ed0f690c1f</td>\n      <td>Kingsbridge-Riverdale Farmers' Market</td>\n      <td>40.879394</td>\n      <td>-73.907125</td>\n      <td>Vegetarian / Vegan Restaurant</td>\n    </tr>\n    <tr>\n      <th>1</th>\n      <td>Greenpoint</td>\n      <td>40.730201</td>\n      <td>-73.954241</td>\n      <td>4b9709fcf964a520c4f434e3</td>\n      <td>Paulie Gee\u2019s</td>\n      <td>40.729801</td>\n      <td>-73.958520</td>\n      <td>Pizza Place</td>\n    </tr>\n    <tr>\n      <th>2</th>\n      <td>Greenpoint</td>\n      <td>40.730201</td>\n      <td>-73.954241</td>\n      <td>53dd1ead498e9ef3f539fb4e</td>\n      <td>Jungle Cafe</td>\n      <td>40.730201</td>\n      <td>-73.954761</td>\n      <td>Vegetarian / Vegan Restaurant</td>\n    </tr>\n    <tr>\n      <th>3</th>\n      <td>Greenpoint</td>\n      <td>40.730201</td>\n      <td>-73.954241</td>\n      <td>4ff37cb9e4b0b8fda883be7f</td>\n      <td>Adelina's</td>\n      <td>40.730301</td>\n      <td>-73.953352</td>\n      <td>Italian Restaurant</td>\n    </tr>\n    <tr>\n      <th>4</th>\n      <td>Greenpoint</td>\n      <td>40.730201</td>\n      <td>-73.954241</td>\n      <td>59c68c0c4382ab16da7cf734</td>\n      <td>Brooklyn Whiskers</td>\n      <td>40.733314</td>\n      <td>-73.954791</td>\n      <td>Bakery</td>\n    </tr>\n  </tbody>\n</table>\n</div>", 
                        "text/plain": "  Neighborhood  Neighborhood Latitude  Neighborhood Longitude  \\\n0  Marble Hill              40.876551              -73.910660   \n1   Greenpoint              40.730201              -73.954241   \n2   Greenpoint              40.730201              -73.954241   \n3   Greenpoint              40.730201              -73.954241   \n4   Greenpoint              40.730201              -73.954241   \n\n                         Id                                  Venue  \\\n0  52411ca98bbd75ed0f690c1f  Kingsbridge-Riverdale Farmers' Market   \n1  4b9709fcf964a520c4f434e3                           Paulie Gee\u2019s   \n2  53dd1ead498e9ef3f539fb4e                            Jungle Cafe   \n3  4ff37cb9e4b0b8fda883be7f                              Adelina's   \n4  59c68c0c4382ab16da7cf734                      Brooklyn Whiskers   \n\n   Venue Latitude  Venue Longitude                 Venue Category  \n0       40.879394       -73.907125  Vegetarian / Vegan Restaurant  \n1       40.729801       -73.958520                    Pizza Place  \n2       40.730201       -73.954761  Vegetarian / Vegan Restaurant  \n3       40.730301       -73.953352             Italian Restaurant  \n4       40.733314       -73.954791                         Bakery  "
                    }, 
                    "output_type": "execute_result"
                }
            ], 
            "source": "# The code was removed by Watson Studio for sharing."
        }, 
        {
            "execution_count": 3, 
            "cell_type": "code", 
            "metadata": {}, 
            "outputs": [], 
            "source": "df_veg_id = pd.DataFrame( df_veg['Id'].unique())\ndf_veg_id.columns=['Id']"
        }, 
        {
            "execution_count": 6, 
            "cell_type": "code", 
            "metadata": {}, 
            "outputs": [], 
            "source": "def getDetails(listID):\n    \n\n   detail_list = []\n   for  id in listID:\n        url = 'https://api.foursquare.com/v2/venues/{}?&client_id={}&client_secret={}&v={}'.format(\n            id,\n            CLIENT_ID, \n            CLIENT_SECRET, \n            VERSION )\n        print (id)\n              \n        # make the GET request\n        jresults=requests.get(url).json()\n  \n        results = jresults[\"response\"]\n     \n        if not results:\n            print (\"No results for \" + id)\n            continue\n        venue = results['venue']\n        price = getJsonField(venue, 'price')\n        if (price != 'None'):\n            price = getJsonField(price, 'message')\n        else:\n            price='None'\n        \n\n        detail_list.append([\n            id,\n            venue['name'],\n            price,\n            getJsonField(venue,'rating')])\n    \n\n   \n   vegdetails = pd.DataFrame(detail_list)\n   vegdetails.columns = [\n                  'Id',\n                  'Name',\n                  'Price',\n                  'Rating' \n                  ]\n   return vegdetails"
        }, 
        {
            "execution_count": 14, 
            "cell_type": "code", 
            "metadata": {}, 
            "outputs": [
                {
                    "output_type": "stream", 
                    "name": "stdout", 
                    "text": "52411ca98bbd75ed0f690c1f\n"
                }
            ], 
            "source": "# We call this each day ( getting 50) till we filled all the details for 200+ venues\nvegi_venues_details = getDetails(df_veg_id['Id'][0:1])"
        }, 
        {
            "execution_count": 12, 
            "cell_type": "code", 
            "metadata": {}, 
            "outputs": [], 
            "source": "## After getting all the venues, I saved the info in file Raw_Veg_Det.csv"
        }, 
        {
            "execution_count": null, 
            "cell_type": "code", 
            "metadata": {}, 
            "outputs": [], 
            "source": ""
        }
    ], 
    "metadata": {
        "kernelspec": {
            "display_name": "Python 3.6", 
            "name": "python3", 
            "language": "python"
        }, 
        "language_info": {
            "mimetype": "text/x-python", 
            "nbconvert_exporter": "python", 
            "version": "3.6.8", 
            "name": "python", 
            "file_extension": ".py", 
            "pygments_lexer": "ipython3", 
            "codemirror_mode": {
                "version": 3, 
                "name": "ipython"
            }
        }
    }, 
    "nbformat": 4
}